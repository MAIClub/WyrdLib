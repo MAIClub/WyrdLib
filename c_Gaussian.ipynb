{
  "nbformat": 4,
  "nbformat_minor": 0,
  "metadata": {
    "colab": {
      "name": "c_Gaussian.ipynb",
      "version": "0.3.2",
      "provenance": [],
      "collapsed_sections": [],
      "include_colab_link": true
    },
    "kernelspec": {
      "name": "python3",
      "display_name": "Python 3"
    }
  },
  "cells": [
    {
      "cell_type": "markdown",
      "metadata": {
        "id": "view-in-github",
        "colab_type": "text"
      },
      "source": [
        "<a href=\"https://colab.research.google.com/github/TYZAUM/WyrdLib/blob/master/c_Gaussian.ipynb\" target=\"_parent\"><img src=\"https://colab.research.google.com/assets/colab-badge.svg\" alt=\"Open In Colab\"/></a>"
      ]
    },
    {
      "cell_type": "code",
      "metadata": {
        "id": "aOfRPvGVtGNH",
        "colab_type": "code",
        "colab": {}
      },
      "source": [
        "import numpy as np\n",
        "from google.colab.patches import cv2_imshow\n",
        "import cv2\n",
        "import matplotlib.pyplot as plt\n",
        "\n",
        "class Gaussian:\n",
        "  \n",
        "\n",
        "  def __init__(self,image):\n",
        "    self.image=image\n",
        "\n",
        "    \n",
        "  def gaussian(image):\n",
        "    image= cv2.imread(image)\n",
        "\n",
        "    red=image[:,:,0]\n",
        "    green=image[:,:,1]\n",
        "    blue=image[:,:,2]\n",
        "\n",
        "    new_image=np.array((red,green,blue),dtype=np.uint8)  \n",
        "\n",
        "    length=(image.shape[0])\n",
        "    width=(image.shape[1])\n",
        "    func=np.array(([1,4,7,4,1],[4,16,26,16,4],\n",
        "               [7,26,41,26,7],[4,16,26,16,4],\n",
        "               [1,4,7,4,1]))\n",
        "\n",
        "    b=np.zeros((5,5),dtype=int)\n",
        "    e=np.zeros((3,length,width),dtype=int)\n",
        "\n",
        "    for color in range(3): \n",
        "      x=-2\n",
        "      y=-2\n",
        "      cur_col_mode=new_image[color]\n",
        "      for pixel_l in range(length):\n",
        "        for pixel_w in range (width):\n",
        "          for h in range (5):\n",
        "            for l in range(5): \n",
        "              if (image.shape[0]>x>(-1))&(image.shape[1]>y>(-1)):\n",
        "                b[h][l]=cur_col_mode[x][y]*func[h][l]\n",
        "                y+=1          \n",
        "              else:\n",
        "                y+=1\n",
        "            x+=1\n",
        "            y-=(b.shape[1]) \n",
        "      \n",
        "          x-=b.shape[0]\n",
        "          y+=1\n",
        "          new_b=np.sum(b)/273\n",
        "          e[color][pixel_l][pixel_w]=int(new_b)\n",
        "        x+=1\n",
        "        y-=(width)\n",
        "    gaussian=np.dstack((e[0],e[1],e[2]))\n",
        "    cv2_imshow(gaussian)\n"
      ],
      "execution_count": 0,
      "outputs": []
    }
  ]
}